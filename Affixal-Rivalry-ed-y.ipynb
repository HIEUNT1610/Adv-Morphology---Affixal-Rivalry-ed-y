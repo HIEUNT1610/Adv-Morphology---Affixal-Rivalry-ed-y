{
 "cells": [
  {
   "attachments": {},
   "cell_type": "markdown",
   "metadata": {},
   "source": [
    "# Affixal Rivalry between -ed and -y in English\n",
    "This is a end of semester project for the class Experimental Morphology at the University Paris Cite'. \n",
    "\n",
    "The aim of this project is to investigate the affixal rivalry between the ending -ed and -y in English. According to the paper by Nagano (2022), there exists a purely semantic affixal rivalry between these two endings in the denominalized adjectives, created from English concrete nouns. This project aims to investigate the findings from Nagano (2022), by using the distributional methodology.\n",
    "\n",
    "There are two experiments in this project. The first one is to compare the difference vectors between the two affixes to see if they are semantically comparable or not. The second experiment is to train a classifier on these difference vectors, then test the classifier on unseen data, in this case the data from UniMorph. "
   ]
  },
  {
   "cell_type": "code",
   "execution_count": 110,
   "metadata": {},
   "outputs": [],
   "source": [
    "# Importing the necessary libraries\n",
    "import pandas as pd\n",
    "import numpy as np\n",
    "import matplotlib.pyplot as plt\n",
    "import seaborn as sns\n",
    "import gensim.downloader as api\n"
   ]
  },
  {
   "cell_type": "code",
   "execution_count": 111,
   "metadata": {},
   "outputs": [],
   "source": [
    "# Import the Word2Vec model\n",
    "wv = api.load('word2vec-google-news-300')\n",
    "\n",
    "# Define a vectorize function\n",
    "def vectorize(tokens):\n",
    "    vectors = []\n",
    "    for token in tokens:\n",
    "        if token in wv:\n",
    "            vectors.append(wv[token])\n",
    "        else:\n",
    "            vectors.append(None)\n",
    "    return vectors"
   ]
  },
  {
   "cell_type": "code",
   "execution_count": 112,
   "metadata": {},
   "outputs": [
    {
     "name": "stdout",
     "output_type": "stream",
     "text": [
      "     ROOT    DERIV AFFIX\n",
      "0     leg   legged   -ed\n",
      "1     leg    leggy    -y\n",
      "2    bone    boned   -ed\n",
      "3    bone    boney    -y\n",
      "4   price   priced   -ed\n",
      "..    ...      ...   ...\n",
      "71    oil     oily    -y\n",
      "72  spice   spiced   -ed\n",
      "73  spice    spicy    -y\n",
      "74  sugar  sugared   -ed\n",
      "75  sugar   sugary    -y\n",
      "\n",
      "[76 rows x 3 columns]\n",
      "     ROOT    DERIV  AFFIX                                        ROOT_VECTOR  \\\n",
      "0     leg   legged      0  [[0.00090789795, 0.12011719, 0.021972656, -0.2...   \n",
      "1     leg    leggy      1  [[0.00090789795, 0.12011719, 0.021972656, -0.2...   \n",
      "2    bone    boned      0  [[-0.21191406, 0.049072266, -0.11328125, -0.03...   \n",
      "3    bone    boney      1  [[-0.21191406, 0.049072266, -0.11328125, -0.03...   \n",
      "4   price   priced      0  [[0.14160156, -0.02709961, -0.18457031, 0.1748...   \n",
      "..    ...      ...    ...                                                ...   \n",
      "71    oil     oily      1  [[-0.13964844, 0.06225586, -0.27929688, 0.0639...   \n",
      "72  spice   spiced      0  [[-0.016357422, 0.12988281, 0.1328125, -0.0893...   \n",
      "73  spice    spicy      1  [[-0.016357422, 0.12988281, 0.1328125, -0.0893...   \n",
      "74  sugar  sugared      0  [[-0.1875, -0.19921875, -0.03857422, 0.2060546...   \n",
      "75  sugar   sugary      1  [[-0.1875, -0.19921875, -0.03857422, 0.2060546...   \n",
      "\n",
      "                                         DERIV_VECTOR  \n",
      "0   [[-0.10253906, 0.20410156, -0.017822266, 0.188...  \n",
      "1   [[-0.04345703, 0.1953125, -0.12109375, 0.09863...  \n",
      "2   [[0.12792969, 0.28125, 0.011230469, -0.0859375...  \n",
      "3   [[-0.2421875, 0.16894531, -0.22167969, 0.35156...  \n",
      "4   [[-0.07080078, 0.12890625, -0.32421875, 0.2050...  \n",
      "..                                                ...  \n",
      "71  [[0.01574707, 0.24902344, -0.12109375, 0.03540...  \n",
      "72  [[-0.11230469, 0.03930664, 0.12060547, -0.125,...  \n",
      "73  [[-0.21875, -0.056884766, 0.23242188, 0.194335...  \n",
      "74  [[-0.007019043, -0.008483887, 0.20019531, 0.19...  \n",
      "75  [[-0.08642578, -0.21582031, 0.08105469, 0.2773...  \n",
      "\n",
      "[76 rows x 5 columns]\n"
     ]
    }
   ],
   "source": [
    "# Creating the dataframe for training data from Nagano (2022):\n",
    "column_names = ['ROOT', 'DERIV', 'AFFIX']\n",
    "train_data = pd.read_csv('nagano-data.tsv', sep='\\t', names=column_names)\n",
    "print(train_data)\n",
    "\n",
    "# Vectorize the training data\n",
    "train_data['ROOT_VECTOR'] = train_data['ROOT'].apply(lambda x: vectorize(x.split()))\n",
    "train_data['DERIV_VECTOR'] = train_data['DERIV'].apply(lambda x: vectorize(x.split()))\n",
    "train_data['AFFIX'] = train_data['AFFIX'].replace({'-ed': 0, '-y': 1})\n",
    "print(train_data)"
   ]
  },
  {
   "cell_type": "code",
   "execution_count": 113,
   "metadata": {},
   "outputs": [
    {
     "name": "stdout",
     "output_type": "stream",
     "text": [
      "       ROOT  COSINE_SIMILARITY\n",
      "0       leg           0.526988\n",
      "1      bone           0.602122\n",
      "2     price           0.537156\n",
      "3       wit           0.264876\n",
      "4     curve           0.628152\n",
      "5      head           0.354714\n",
      "6     brain           0.603593\n",
      "7     cheek           0.448141\n",
      "8   feather           0.641470\n",
      "9      hand           0.227643\n",
      "10     head           0.354714\n",
      "11      hip           0.482956\n",
      "12    mouth           0.506514\n",
      "13     nose           0.364511\n",
      "14     skin           0.517622\n",
      "15    tooth           0.620628\n",
      "16     edge           0.395138\n",
      "17     loft           0.324167\n",
      "18     room           0.246554\n",
      "19    shape           0.319353\n",
      "20    taste           0.323992\n",
      "21     fish           0.202100\n",
      "22     leaf           0.354984\n",
      "23     rock           0.445634\n",
      "24     sand           0.314394\n",
      "25    stone           0.345706\n",
      "26    water           0.352573\n",
      "27      air           0.181804\n",
      "28    cloud           0.606249\n",
      "29     dust           0.459283\n",
      "30      ice           0.322265\n",
      "31     mist           0.297710\n",
      "32     snow           0.462827\n",
      "33      sun           0.424234\n",
      "34    dress           0.036261\n",
      "35      oil           0.509179\n",
      "36    spice           0.556888\n",
      "37    sugar           0.652546\n",
      "The average similarity between the two affixes is: 0.41620105504989624\n"
     ]
    }
   ],
   "source": [
    "# Define a function to calculate the difference vector between the root and the derivational form:\n",
    "def difference_vector(v1, v2):\n",
    "    return np.subtract(v1, v2)\n",
    "\n",
    "# Defining the function to calculate the cosine similarity between two vectors:\n",
    "def cosine_similarity(v1, v2):\n",
    "    return np.dot(v1, v2) / (np.linalg.norm(v1) * np.linalg.norm(v2))\n",
    "\n",
    "# Calculating the difference vector between the root and the derivational form:\n",
    "train_data['DIFFERENCE_VECTOR'] = train_data.apply(lambda x: difference_vector(x['ROOT_VECTOR'][0], x['DERIV_VECTOR'][0]), axis=1)\n",
    "\n",
    "# Separate the data into two groups: -ed and -y:\n",
    "train_data_ed = train_data[train_data['AFFIX'] == 0].reset_index(drop=True)\n",
    "train_data_y = train_data[train_data['AFFIX'] == 1].reset_index(drop=True)\n",
    "\n",
    "# Calculating the cosine similarity between the difference vector of -ed and -y:\n",
    "new_train_data = pd.concat([train_data_ed['ROOT'], train_data_ed['DIFFERENCE_VECTOR']], axis=1)\n",
    "new_train_data = new_train_data.rename(columns={'DIFFERENCE_VECTOR': 'DIFFERENCE_VECTOR_ed'})\n",
    "new_train_data = pd.concat([new_train_data, train_data_y['DIFFERENCE_VECTOR']], axis=1)\n",
    "new_train_data = new_train_data.rename(columns={'DIFFERENCE_VECTOR': 'DIFFERENCE_VECTOR_y'})\n",
    "new_train_data['COSINE_SIMILARITY'] = new_train_data.apply(lambda x: cosine_similarity(x['DIFFERENCE_VECTOR_ed'], x['DIFFERENCE_VECTOR_y']), axis=1)\n",
    "new_train_data = new_train_data.drop(['DIFFERENCE_VECTOR_ed', 'DIFFERENCE_VECTOR_y'], axis=1)\n",
    "print(new_train_data)\n",
    "print(f\"The average similarity between the two affixes is: {new_train_data['COSINE_SIMILARITY'].mean()}\")"
   ]
  },
  {
   "cell_type": "code",
   "execution_count": 114,
   "metadata": {},
   "outputs": [
    {
     "name": "stdout",
     "output_type": "stream",
     "text": [
      "(300,)\n",
      "The similarity between the average difference vectors of -ed and -y is: 0.5349239110946655\n"
     ]
    }
   ],
   "source": [
    "# We can also visualize the difference vectors of the two affixes:\n",
    "difference_vectors_ed = np.array(train_data_ed['DIFFERENCE_VECTOR'].tolist())\n",
    "difference_vectors_y = np.array(train_data_y['DIFFERENCE_VECTOR'].tolist())\n",
    "\n",
    "# Averaging the difference vectors of -ed and -y:\n",
    "average_difference_vector_ed = np.mean(difference_vectors_ed, axis=0)\n",
    "average_difference_vector_y = np.mean(difference_vectors_y, axis=0)\n",
    "print(average_difference_vector_ed.shape)\n",
    "# Similarity between the average difference vectors of -ed and -y:\n",
    "similarity = cosine_similarity(average_difference_vector_ed, average_difference_vector_y)\n",
    "print(f\"The similarity between the average difference vectors of -ed and -y is: {similarity}\")"
   ]
  },
  {
   "cell_type": "code",
   "execution_count": 115,
   "metadata": {},
   "outputs": [
    {
     "data": {
      "image/png": "[encoded data removed]",
      "text/plain": [
       "<Figure size 640x480 with 1 Axes>"
      ]
     },
     "metadata": {},
     "output_type": "display_data"
    }
   ],
   "source": [
    "# Plotting the difference vectors of -ed and -y into 2D:\n",
    "\n",
    "from sklearn.decomposition import PCA\n",
    "\n",
    "pca = PCA(n_components=2)\n",
    "\n",
    "reduced_ed = pca.fit_transform(difference_vectors_ed)\n",
    "reduced_y = pca.fit_transform(difference_vectors_y)\n",
    "\n",
    "reduced_ed = np.mean(reduced_ed, axis=0)\n",
    "reduced_y = np.mean(reduced_y, axis=0)\n",
    "\n",
    "plt.figure()\n",
    "ax = plt.gca()\n",
    "ax.quiver([0, 0], [0, 0], [reduced_ed[0], reduced_y[0]], [reduced_ed[1], reduced_y[1]], color=['r', 'b'])\n",
    "ax.set_xlim([-1, 1])\n",
    "ax.set_ylim([-1, 1])\n",
    "plt.draw()\n",
    "plt.show()\n",
    "\n",
    " "
   ]
  },
  {
   "cell_type": "code",
   "execution_count": 116,
   "metadata": {},
   "outputs": [
    {
     "name": "stdout",
     "output_type": "stream",
     "text": [
      "                ROOT          DERIV AFFIX\n",
      "16           abandon      abandoned   -ed\n",
      "31            abatis       abatised   -ed\n",
      "119            abort        aborted   -ed\n",
      "186         abstract     abstracted   -ed\n",
      "271             crag         craggy    -y\n",
      "...              ...            ...   ...\n",
      "224929          wuss          wussy    -y\n",
      "224949  significator  significatory    -y\n",
      "224957    combinator    combinatory    -y\n",
      "224962          hock         hocked   -ed\n",
      "225077       lattice       latticed   -ed\n",
      "\n",
      "[4192 rows x 3 columns]\n"
     ]
    }
   ],
   "source": [
    "# Importing the UniMorph dataset\n",
    "column_names = ['ROOT', 'DERIV', 'PROCESS', 'AFFIX']\n",
    "data = pd.read_csv('UniMorph-Eng/eng/eng.derivations.tsv', sep='\\t', names = column_names)\n",
    "\n",
    "# We only look at N:ADJ and -ed; -y\n",
    "data = data[(data['PROCESS'] == 'N:ADJ') & ((data['AFFIX'] == '-ed') | (data['AFFIX'] == '-y'))]\n",
    "data = data.drop(['PROCESS',], axis=1)\n",
    "print(data)\n"
   ]
  }
 ],
 "metadata": {
  "kernelspec": {
   "display_name": "local",
   "language": "python",
   "name": "python3"
  },
  "language_info": {
   "codemirror_mode": {
    "name": "ipython",
    "version": 3
   },
   "file_extension": ".py",
   "mimetype": "text/x-python",
   "name": "python",
   "nbconvert_exporter": "python",
   "pygments_lexer": "ipython3",
   "version": "3.10.11"
  },
  "orig_nbformat": 4
 },
 "nbformat": 4,
 "nbformat_minor": 2
}
