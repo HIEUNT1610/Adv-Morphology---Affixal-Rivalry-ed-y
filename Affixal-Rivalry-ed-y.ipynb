{
 "cells": [
  {
   "attachments": {},
   "cell_type": "markdown",
   "metadata": {},
   "source": [
    "# Affixal Rivalry between -ed and -y in English\n",
    "This is a end of semester project for the class Experimental Morphology at the University Paris Cite'. \n",
    "\n",
    "The aim of this project is to investigate the affixal rivalry between the ending -ed and -y in English. According to the paper by Nagano (2022), there exists a purely semantic affixal rivalry between these two endings in the denominalized adjectives, created from English concrete nouns. This project aims to investigate the findings from Nagano (2022), by using the distributional methodology.\n",
    "\n",
    "There are two experiments in this project. The first one is to compare the difference vectors between the two affixes to see if they are semantically comparable or not. The second experiment is to train a classifier on these difference vectors, then test the classifier on unseen data, in this case the data from UniMorph. "
   ]
  },
  {
   "cell_type": "code",
   "execution_count": 110,
   "metadata": {},
   "outputs": [],
   "source": [
    "# Importing the necessary libraries\n",
    "import pandas as pd\n",
    "import numpy as np\n",
    "import matplotlib.pyplot as plt\n",
    "import seaborn as sns\n",
    "import gensim.downloader as api\n"
   ]
  },
  {
   "attachments": {},
   "cell_type": "markdown",
   "metadata": {},
   "source": [
    "### Experiment 1: Compare difference vectors between -ed and -y"
   ]
  },
  {
   "cell_type": "code",
   "execution_count": 174,
   "metadata": {},
   "outputs": [],
   "source": [
    "# Import the Google News 300 pre-trained Word2Vec model\n",
    "wv = api.load('word2vec-google-news-300')\n"
   ]
  },
  {
   "cell_type": "code",
   "execution_count": 200,
   "metadata": {},
   "outputs": [
    {
     "name": "stdout",
     "output_type": "stream",
     "text": [
      "     ROOT    DERIV AFFIX\n",
      "0     leg   legged   -ed\n",
      "1     leg    leggy    -y\n",
      "2    bone    boned   -ed\n",
      "3    bone    boney    -y\n",
      "4   price   priced   -ed\n",
      "..    ...      ...   ...\n",
      "71    oil     oily    -y\n",
      "72  spice   spiced   -ed\n",
      "73  spice    spicy    -y\n",
      "74  sugar  sugared   -ed\n",
      "75  sugar   sugary    -y\n",
      "\n",
      "[76 rows x 3 columns]\n",
      "     ROOT    DERIV  AFFIX                                        ROOT_VECTOR  \\\n",
      "0     leg   legged      0  [0.00090789795, 0.12011719, 0.021972656, -0.27...   \n",
      "1     leg    leggy      1  [0.00090789795, 0.12011719, 0.021972656, -0.27...   \n",
      "2    bone    boned      0  [-0.21191406, 0.049072266, -0.11328125, -0.032...   \n",
      "3    bone    boney      1  [-0.21191406, 0.049072266, -0.11328125, -0.032...   \n",
      "4   price   priced      0  [0.14160156, -0.02709961, -0.18457031, 0.17480...   \n",
      "..    ...      ...    ...                                                ...   \n",
      "71    oil     oily      1  [-0.13964844, 0.06225586, -0.27929688, 0.06396...   \n",
      "72  spice   spiced      0  [-0.016357422, 0.12988281, 0.1328125, -0.08935...   \n",
      "73  spice    spicy      1  [-0.016357422, 0.12988281, 0.1328125, -0.08935...   \n",
      "74  sugar  sugared      0  [-0.1875, -0.19921875, -0.03857422, 0.20605469...   \n",
      "75  sugar   sugary      1  [-0.1875, -0.19921875, -0.03857422, 0.20605469...   \n",
      "\n",
      "                                         DERIV_VECTOR  \n",
      "0   [-0.10253906, 0.20410156, -0.017822266, 0.1884...  \n",
      "1   [-0.04345703, 0.1953125, -0.12109375, 0.098632...  \n",
      "2   [0.12792969, 0.28125, 0.011230469, -0.0859375,...  \n",
      "3   [-0.2421875, 0.16894531, -0.22167969, 0.351562...  \n",
      "4   [-0.07080078, 0.12890625, -0.32421875, 0.20507...  \n",
      "..                                                ...  \n",
      "71  [0.01574707, 0.24902344, -0.12109375, 0.035400...  \n",
      "72  [-0.11230469, 0.03930664, 0.12060547, -0.125, ...  \n",
      "73  [-0.21875, -0.056884766, 0.23242188, 0.1943359...  \n",
      "74  [-0.007019043, -0.008483887, 0.20019531, 0.190...  \n",
      "75  [-0.08642578, -0.21582031, 0.08105469, 0.27734...  \n",
      "\n",
      "[76 rows x 5 columns]\n"
     ]
    }
   ],
   "source": [
    "# Define a vectorize function\n",
    "def vectorize(tokens):\n",
    "    for token in tokens:\n",
    "        if token in wv:\n",
    "            return wv[token]\n",
    "        else:\n",
    "            return None\n",
    "\n",
    "# Creating the dataframe for training data from Nagano (2022):\n",
    "column_names = ['ROOT', 'DERIV', 'AFFIX']\n",
    "train_data = pd.read_csv('nagano-data.tsv', sep='\\t', names=column_names)\n",
    "print(train_data)\n",
    "\n",
    "# Vectorize the training data\n",
    "train_data['ROOT_VECTOR'] = train_data['ROOT'].apply(lambda x: vectorize(x.split()))\n",
    "train_data['DERIV_VECTOR'] = train_data['DERIV'].apply(lambda x: vectorize(x.split()))\n",
    "train_data['AFFIX'] = train_data['AFFIX'].replace({'-ed': 0, '-y': 1})\n",
    "print(train_data)"
   ]
  },
  {
   "cell_type": "code",
   "execution_count": 201,
   "metadata": {},
   "outputs": [
    {
     "name": "stdout",
     "output_type": "stream",
     "text": [
      "       ROOT  COSINE_SIMILARITY\n",
      "0       leg           0.526988\n",
      "1      bone           0.602122\n",
      "2     price           0.537156\n",
      "3       wit           0.264876\n",
      "4     curve           0.628152\n",
      "5      head           0.354714\n",
      "6     brain           0.603593\n",
      "7     cheek           0.448141\n",
      "8   feather           0.641470\n",
      "9      hand           0.227643\n",
      "10     head           0.354714\n",
      "11      hip           0.482956\n",
      "12    mouth           0.506514\n",
      "13     nose           0.364511\n",
      "14     skin           0.517622\n",
      "15    tooth           0.620628\n",
      "16     edge           0.395138\n",
      "17     loft           0.324167\n",
      "18     room           0.246554\n",
      "19    shape           0.319353\n",
      "20    taste           0.323992\n",
      "21     fish           0.202100\n",
      "22     leaf           0.354984\n",
      "23     rock           0.445634\n",
      "24     sand           0.314394\n",
      "25    stone           0.345706\n",
      "26    water           0.352573\n",
      "27      air           0.181804\n",
      "28    cloud           0.606249\n",
      "29     dust           0.459283\n",
      "30      ice           0.322265\n",
      "31     mist           0.297710\n",
      "32     snow           0.462827\n",
      "33      sun           0.424234\n",
      "34    dress           0.036261\n",
      "35      oil           0.509179\n",
      "36    spice           0.556888\n",
      "37    sugar           0.652546\n",
      "The average similarity between the two affixes is: 0.41620105504989624\n"
     ]
    }
   ],
   "source": [
    "# Define a function to calculate the difference vector between the root and the derivational form:\n",
    "def difference_vector(v1, v2):\n",
    "    return np.subtract(v1, v2)\n",
    "\n",
    "# Defining the function to calculate the cosine similarity between two vectors:\n",
    "def cosine_similarity(v1, v2):\n",
    "    return np.dot(v1, v2) / (np.linalg.norm(v1) * np.linalg.norm(v2))\n",
    "\n",
    "# Calculating the difference vector between the root and the derivational form:\n",
    "train_data['DIFFERENCE_VECTOR'] = train_data.apply(lambda x: difference_vector(x['ROOT_VECTOR'], x['DERIV_VECTOR']), axis=1)\n",
    "\n",
    "# Separate the data into two groups: -ed and -y:\n",
    "train_data_ed = train_data[train_data['AFFIX'] == 0].reset_index(drop=True)\n",
    "train_data_y = train_data[train_data['AFFIX'] == 1].reset_index(drop=True)\n",
    "\n",
    "# Calculating the cosine similarity between the difference vector of -ed and -y:\n",
    "new_train_data = pd.concat([train_data_ed['ROOT'], train_data_ed['DIFFERENCE_VECTOR']], axis=1)\n",
    "new_train_data = new_train_data.rename(columns={'DIFFERENCE_VECTOR': 'DIFFERENCE_VECTOR_ed'})\n",
    "new_train_data = pd.concat([new_train_data, train_data_y['DIFFERENCE_VECTOR']], axis=1)\n",
    "new_train_data = new_train_data.rename(columns={'DIFFERENCE_VECTOR': 'DIFFERENCE_VECTOR_y'})\n",
    "new_train_data['COSINE_SIMILARITY'] = new_train_data.apply(lambda x: cosine_similarity(x['DIFFERENCE_VECTOR_ed'], x['DIFFERENCE_VECTOR_y']), axis=1)\n",
    "new_train_data = new_train_data.drop(['DIFFERENCE_VECTOR_ed', 'DIFFERENCE_VECTOR_y'], axis=1)\n",
    "print(new_train_data)\n",
    "print(f\"The average similarity between the two affixes is: {new_train_data['COSINE_SIMILARITY'].mean()}\")"
   ]
  },
  {
   "cell_type": "code",
   "execution_count": 202,
   "metadata": {},
   "outputs": [
    {
     "name": "stdout",
     "output_type": "stream",
     "text": [
      "(300,)\n",
      "The similarity between the average difference vectors of -ed and -y is: 0.5349239110946655\n"
     ]
    }
   ],
   "source": [
    "# We can also calculate the similarity by averaging the difference vectors of the two affixes:\n",
    "difference_vectors_ed = np.array(train_data_ed['DIFFERENCE_VECTOR'].tolist())\n",
    "difference_vectors_y = np.array(train_data_y['DIFFERENCE_VECTOR'].tolist())\n",
    "\n",
    "average_difference_vector_ed = np.mean(difference_vectors_ed, axis=0)\n",
    "average_difference_vector_y = np.mean(difference_vectors_y, axis=0)\n",
    "print(average_difference_vector_ed.shape)\n",
    "\n",
    "# Similarity between the average difference vectors of -ed and -y:\n",
    "similarity = cosine_similarity(average_difference_vector_ed, average_difference_vector_y)\n",
    "print(f\"The similarity between the average difference vectors of -ed and -y is: {similarity}\")"
   ]
  },
  {
   "cell_type": "code",
   "execution_count": 203,
   "metadata": {},
   "outputs": [
    {
     "data": {
      "image/png": "[encoded data removed]",
      "text/plain": [
       "<Figure size 640x480 with 1 Axes>"
      ]
     },
     "metadata": {},
     "output_type": "display_data"
    }
   ],
   "source": [
    "# Plotting the difference vectors of -ed and -y into 2D:\n",
    "# We use PCA to reduce the dimensions into 2D:\n",
    "from sklearn.decomposition import PCA\n",
    "pca = PCA(n_components=2)\n",
    "\n",
    "reduced_ed = pca.fit_transform(difference_vectors_ed) # reduced_ed is a 2D array\n",
    "reduced_y = pca.fit_transform(difference_vectors_y) # reduced_y is a 2D array\n",
    "\n",
    "# Averaging the reduced vectors:\n",
    "reduced_ed = np.mean(reduced_ed, axis=0) \n",
    "reduced_y = np.mean(reduced_y, axis=0)\n",
    "\n",
    "# Plot the vectors:\n",
    "plt.figure()\n",
    "ax = plt.gca()\n",
    "ax.quiver([0, 0], [0, 0], [reduced_ed[0], reduced_y[0]], [reduced_ed[1], reduced_y[1]], color=['r', 'b'])\n",
    "ax.set_xlim([-1, 1])\n",
    "ax.set_ylim([-1, 1])\n",
    "plt.draw()\n",
    "plt.show()\n",
    "\n",
    " "
   ]
  },
  {
   "attachments": {},
   "cell_type": "markdown",
   "metadata": {},
   "source": [
    "### Experiment 2: Train a classifier on the training data from Nagano (2022) to predict the affixes of the UniMorph data."
   ]
  },
  {
   "cell_type": "code",
   "execution_count": 204,
   "metadata": {},
   "outputs": [
    {
     "name": "stdout",
     "output_type": "stream",
     "text": [
      "              ROOT          DERIV  AFFIX\n",
      "0          abandon      abandoned      0\n",
      "1           abatis       abatised      0\n",
      "2            abort        aborted      0\n",
      "3         abstract     abstracted      0\n",
      "4             crag         craggy      1\n",
      "...            ...            ...    ...\n",
      "4187          wuss          wussy      1\n",
      "4188  significator  significatory      1\n",
      "4189    combinator    combinatory      1\n",
      "4190          hock         hocked      0\n",
      "4191       lattice       latticed      0\n",
      "\n",
      "[4192 rows x 3 columns]\n"
     ]
    }
   ],
   "source": [
    "# Importing the UniMorph dataset\n",
    "column_names = ['ROOT', 'DERIV', 'PROCESS', 'AFFIX']\n",
    "data = pd.read_csv('UniMorph-Eng/eng/eng.derivations.tsv', sep='\\t', names = column_names)\n",
    "\n",
    "# We only look at N:ADJ and -ed; -y\n",
    "data = data[(data['PROCESS'] == 'N:ADJ') & ((data['AFFIX'] == '-ed') | (data['AFFIX'] == '-y'))]\n",
    "data = data.drop(['PROCESS',], axis=1)\n",
    "data = data.reset_index(drop=True)\n",
    "data['AFFIX'] = data['AFFIX'].replace({'-ed': 0, '-y': 1})\n",
    "\n",
    "print(data) # data is a dataframe of 4192 examples, many of which may not have a corresponding vector in the Word2Vec model\n"
   ]
  },
  {
   "cell_type": "code",
   "execution_count": 225,
   "metadata": {},
   "outputs": [
    {
     "name": "stdout",
     "output_type": "stream",
     "text": [
      "The ratio of -ed and -y in the test data is: 0.751841620626151\n"
     ]
    }
   ],
   "source": [
    "# Vectorize the data\n",
    "data['ROOT_VECTOR'] = data['ROOT'].apply(lambda x: vectorize(x.split()))\n",
    "\n",
    "# Process the train and test data:\n",
    "clf_train_data = train_data.drop(['ROOT', 'DERIV', 'DERIV_VECTOR', 'DIFFERENCE_VECTOR'], axis=1) # Train data is [LABEL, ROOT_VECTOR]\n",
    "clf_data = data.drop(['ROOT', 'DERIV'], axis = 1) # Test data is [LABEL, ROOT_VECTOR]\n",
    "clf_data = clf_data[clf_data['ROOT_VECTOR'].apply(lambda x: x is not None)] # Remove the rows with None values\n",
    "clf_data = clf_data.reset_index(drop=True)\n",
    "\n",
    "train_examples = [(x, y) for x, y in zip(clf_train_data['ROOT_VECTOR'], clf_train_data['AFFIX'])] # Train examples is [(ROOT_VECTOR, LABEL)]\n",
    "test_examples = [(x,y) for x, y  in zip(clf_data['ROOT_VECTOR'], clf_data['AFFIX'])]         # Test examples is [(ROOT_VECTOR, LABEL)]\n",
    "\n",
    "# The ratio of -ed and -y in the test data:\n",
    "clf_data_ed = clf_data[clf_data['AFFIX'] == 0].reset_index(drop=True)\n",
    "clf_data_y = clf_data[clf_data['AFFIX'] == 1].reset_index(drop=True)\n",
    "print(f\"The ratio of -ed and -y in the test data is: {len(clf_data_ed) / len(clf_data_y)}\")"
   ]
  },
  {
   "cell_type": "code",
   "execution_count": 208,
   "metadata": {},
   "outputs": [],
   "source": [
    "# Create a neural network for classification:\n",
    "# Here we are going to use a simple neural network with 1 hidden layer\n",
    "import torch \n",
    "import torch.nn as nn\n",
    "import torch.nn.functional as F\n",
    "import torch.optim as optim\n",
    "torch.manual_seed(42)\n",
    "\n",
    "# Define the neural network:\n",
    "class AffixClassifier(nn.Module):\n",
    "    # Here we create just a simple NN with 1 hidden layer:\n",
    "    def __init__(self, nb_classes = 2, vector_dim = 300, hidden_layer_size = 128):\n",
    "        \"\"\" - d is the size of the vectors representing the objects to classify \n",
    "            - hidden_layer_size is ... the size of the hidden layer\n",
    "        \"\"\"\n",
    "        super(AffixClassifier, self).__init__()\n",
    "        self.linear_1 = nn.Linear(vector_dim, hidden_layer_size) # The input is a vector of 300 dimensions\n",
    "        self.linear_2 = nn.Linear(hidden_layer_size, nb_classes)   # The output is a vector of 2 dimensions\n",
    "    \n",
    "    def forward(self, X):\n",
    "        \"\"\"\n",
    "        Input : X batch of inputs : ( shape (b, d) )\n",
    "                with b is the size of the batch (it does not have to be constant)\n",
    "        Output : log probabilities (shape (b, nb_classes) )\n",
    "        \"\"\"\n",
    "        out = self.linear_1(X) # Forward to hidden layer [b, d] -> [b, hidden_layer_size]\n",
    "        out = F.relu(out) # Apply ReLU activation function \n",
    "        out = self.linear_2(out) # Forward to output layer [b, hidden_layer_size] -> [b, nb_classes]\n",
    "        return F.log_softmax(out, dim=1) # Apply log softmax activation function to the batch\n",
    "                    \n",
    "        \n",
    "               "
   ]
  },
  {
   "cell_type": "code",
   "execution_count": 221,
   "metadata": {},
   "outputs": [
    {
     "name": "stdout",
     "output_type": "stream",
     "text": [
      "Loss on training set at epoch 0 : 7.637023\n",
      "Loss on training set at epoch 1 : 7.646318\n",
      "Loss on training set at epoch 2 : 7.643707\n",
      "Loss on training set at epoch 3 : 7.641456\n",
      "Loss on training set at epoch 4 : 7.640475\n",
      "Loss on training set at epoch 5 : 7.636379\n",
      "Loss on training set at epoch 6 : 7.635959\n",
      "Loss on training set at epoch 7 : 7.638677\n",
      "Loss on training set at epoch 8 : 7.636818\n",
      "Loss on training set at epoch 9 : 7.643806\n",
      "Loss on training set at epoch 10 : 7.640095\n",
      "Loss on training set at epoch 11 : 7.641536\n",
      "Loss on training set at epoch 12 : 7.636313\n",
      "Loss on training set at epoch 13 : 7.635567\n",
      "Loss on training set at epoch 14 : 7.637199\n",
      "Loss on training set at epoch 15 : 7.638936\n",
      "Loss on training set at epoch 16 : 7.638384\n",
      "Loss on training set at epoch 17 : 7.643298\n",
      "Loss on training set at epoch 18 : 7.639389\n",
      "Loss on training set at epoch 19 : 7.636308\n",
      "Loss on training set at epoch 20 : 7.637008\n",
      "Loss on training set at epoch 21 : 7.633563\n",
      "Loss on training set at epoch 22 : 7.637296\n",
      "Loss on training set at epoch 23 : 7.636940\n",
      "Loss on training set at epoch 24 : 7.641088\n",
      "Loss on training set at epoch 25 : 7.636997\n",
      "Loss on training set at epoch 26 : 7.635082\n",
      "Loss on training set at epoch 27 : 7.636091\n",
      "Loss on training set at epoch 28 : 7.639237\n",
      "Loss on training set at epoch 29 : 7.639577\n",
      "Loss on training set at epoch 30 : 7.637910\n",
      "Loss on training set at epoch 31 : 7.640593\n",
      "Loss on training set at epoch 32 : 7.637132\n",
      "Loss on training set at epoch 33 : 7.633794\n",
      "Loss on training set at epoch 34 : 7.637108\n",
      "Loss on training set at epoch 35 : 7.642902\n",
      "Loss on training set at epoch 36 : 7.633458\n",
      "Loss on training set at epoch 37 : 7.636394\n",
      "Loss on training set at epoch 38 : 7.637564\n",
      "Loss on training set at epoch 39 : 7.638336\n",
      "Loss on training set at epoch 40 : 7.641010\n",
      "Loss on training set at epoch 41 : 7.637542\n",
      "Loss on training set at epoch 42 : 7.635061\n",
      "Loss on training set at epoch 43 : 7.642039\n",
      "Loss on training set at epoch 44 : 7.634884\n",
      "Loss on training set at epoch 45 : 7.638118\n",
      "Loss on training set at epoch 46 : 7.632974\n",
      "Loss on training set at epoch 47 : 7.635971\n",
      "Loss on training set at epoch 48 : 7.636958\n",
      "Loss on training set at epoch 49 : 7.638215\n",
      "Loss on training set at epoch 50 : 7.638634\n",
      "Loss on training set at epoch 51 : 7.637349\n",
      "Loss on training set at epoch 52 : 7.641856\n",
      "Loss on training set at epoch 53 : 7.635904\n",
      "Loss on training set at epoch 54 : 7.637611\n",
      "Loss on training set at epoch 55 : 7.641870\n",
      "Loss on training set at epoch 56 : 7.636839\n",
      "Loss on training set at epoch 57 : 7.637210\n",
      "Loss on training set at epoch 58 : 7.636975\n",
      "Loss on training set at epoch 59 : 7.634944\n",
      "Loss on training set at epoch 60 : 7.637246\n",
      "Loss on training set at epoch 61 : 7.633115\n",
      "Loss on training set at epoch 62 : 7.637517\n",
      "Loss on training set at epoch 63 : 7.634725\n",
      "Loss on training set at epoch 64 : 7.635484\n",
      "Loss on training set at epoch 65 : 7.637748\n",
      "Loss on training set at epoch 66 : 7.635552\n",
      "Loss on training set at epoch 67 : 7.639064\n",
      "Loss on training set at epoch 68 : 7.633875\n",
      "Loss on training set at epoch 69 : 7.639550\n",
      "Loss on training set at epoch 70 : 7.635092\n",
      "Loss on training set at epoch 71 : 7.637049\n",
      "Loss on training set at epoch 72 : 7.638754\n",
      "Loss on training set at epoch 73 : 7.634795\n",
      "Loss on training set at epoch 74 : 7.637529\n",
      "Loss on training set at epoch 75 : 7.634556\n",
      "Loss on training set at epoch 76 : 7.635719\n",
      "Loss on training set at epoch 77 : 7.637294\n",
      "Loss on training set at epoch 78 : 7.636010\n",
      "Loss on training set at epoch 79 : 7.642819\n",
      "Loss on training set at epoch 80 : 7.637949\n",
      "Loss on training set at epoch 81 : 7.637291\n",
      "Loss on training set at epoch 82 : 7.637800\n",
      "Loss on training set at epoch 83 : 7.639211\n",
      "Loss on training set at epoch 84 : 7.635982\n",
      "Loss on training set at epoch 85 : 7.632932\n",
      "Loss on training set at epoch 86 : 7.636122\n",
      "Loss on training set at epoch 87 : 7.634740\n",
      "Loss on training set at epoch 88 : 7.639217\n",
      "Loss on training set at epoch 89 : 7.637036\n",
      "Loss on training set at epoch 90 : 7.637165\n",
      "Loss on training set at epoch 91 : 7.634726\n",
      "Loss on training set at epoch 92 : 7.634217\n",
      "Loss on training set at epoch 93 : 7.639350\n",
      "Loss on training set at epoch 94 : 7.635071\n",
      "Loss on training set at epoch 95 : 7.633093\n",
      "Loss on training set at epoch 96 : 7.635458\n",
      "Loss on training set at epoch 97 : 7.637394\n",
      "Loss on training set at epoch 98 : 7.634268\n",
      "Loss on training set at epoch 99 : 7.636674\n"
     ]
    },
    {
     "data": {
      "image/png": "[encoded data removed]",
      "text/plain": [
       "<Figure size 640x480 with 1 Axes>"
      ]
     },
     "metadata": {},
     "output_type": "display_data"
    }
   ],
   "source": [
    "# Initialize the classifier:\n",
    "classifier = AffixClassifier() \n",
    "\n",
    "# Define the loss function and optimizer:\n",
    "loss_function = nn.NLLLoss() # Negative Log Likelihood Loss\n",
    "optimizer = optim.SGD(classifier.parameters(), lr=0.01) # Stochastic Gradient Descent\n",
    "\n",
    "# Train the classifier:\n",
    "from random import shuffle\n",
    "train_losses = []\n",
    "NB_EPOCHS = 100\n",
    "BATCH_SIZE = 7 # There are 76 examples in the training data, so we can use a batch size of 7\n",
    "\n",
    "for epoch in range(NB_EPOCHS):\n",
    "    epoch_loss = 0\n",
    "    \n",
    "    # shuffle data\n",
    "    shuffle(train_examples)\n",
    "    i = 0\n",
    "    while i < len(train_examples):\n",
    "        \n",
    "        batch = train_examples[i: i+BATCH_SIZE]\n",
    "        i += BATCH_SIZE\n",
    "        \n",
    "        contexts, targets = zip(*batch)\n",
    "\n",
    "        # Step 1. Prepare the inputs to be passed to the model \n",
    "        input_tensor = torch.from_numpy(np.array(contexts)) # [BATCH_SIZE, VECTOR_DIM]\n",
    "        gold_labels = torch.tensor(targets, dtype=torch.long)   # [BATCH_SIZE]\n",
    "        \n",
    "        # TODO : continue the learning (cf. previous lab session TD7)\n",
    "        # Step 2. Reset gradients to 0\n",
    "        classifier.zero_grad()\n",
    "        \n",
    "        # Step 3. Forward propagation\n",
    "        classifier(input_tensor)\n",
    "        \n",
    "        # Step 4. Compute the loss and add training loss to the epoch loss\n",
    "        loss = loss_function(classifier(input_tensor), gold_labels)\n",
    "        epoch_loss += loss.item()\n",
    "        \n",
    "        # Step 5. Backward propagation\n",
    "        loss.backward()\n",
    "        \n",
    "        # Step 6. Update the parameters\n",
    "        optimizer.step()        \n",
    "        \n",
    "    # end of handling of this batch\n",
    "    print(\"Loss on training set at epoch %d : %f\" %(epoch, epoch_loss))\n",
    "    train_losses.append(epoch_loss)\n",
    "# Plot the training losses\n",
    "plt.plot(train_losses)\n",
    "plt.xlabel(\"Epoch\")\n",
    "plt.ylabel(\"Loss\")\n",
    "plt.title(\"Training losses over Epocs\")\n",
    "plt.show()\n"
   ]
  },
  {
   "cell_type": "code",
   "execution_count": 223,
   "metadata": {},
   "outputs": [
    {
     "name": "stdout",
     "output_type": "stream",
     "text": [
      "Accuracy on test set: 51.038%\n"
     ]
    }
   ],
   "source": [
    "# Test the classifier:\n",
    "with torch.no_grad():\n",
    "    # Forward on the test set:\n",
    "    test_contexts, test_targets = zip(*test_examples)\n",
    "    test_input_tensor = torch.from_numpy(np.array(test_contexts))\n",
    "    test_gold_labels = torch.tensor(test_targets, dtype=torch.long)\n",
    "    log_probs = classifier(test_input_tensor)\n",
    "    \n",
    "    # Compute the accuracy:\n",
    "    pred_labels = torch.argmax(log_probs, dim=1)\n",
    "    accuracy = torch.sum(pred_labels == test_gold_labels).item() / len(test_gold_labels)\n",
    "    print(f\"Accuracy on test set: {accuracy:.3%}\")"
   ]
  }
 ],
 "metadata": {
  "kernelspec": {
   "display_name": "local",
   "language": "python",
   "name": "python3"
  },
  "language_info": {
   "codemirror_mode": {
    "name": "ipython",
    "version": 3
   },
   "file_extension": ".py",
   "mimetype": "text/x-python",
   "name": "python",
   "nbconvert_exporter": "python",
   "pygments_lexer": "ipython3",
   "version": "3.10.11"
  },
  "orig_nbformat": 4
 },
 "nbformat": 4,
 "nbformat_minor": 2
}
